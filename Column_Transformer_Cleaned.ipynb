{
 "cells": [
  {
   "cell_type": "markdown",
   "id": "43103446",
   "metadata": {},
   "source": [
    "# ColumnTransformer in Scikit-learn\n",
    "This notebook demonstrates the use of **`ColumnTransformer`** from `sklearn.compose` to apply different preprocessing steps to different columns in a dataset.\n",
    "\n",
    "### Key Concepts:\n",
    "- Encoding categorical features\n",
    "- Scaling numerical features\n",
    "- Combining transformers using `ColumnTransformer`\n",
    "- Integrating into a machine learning pipeline"
   ]
  },
  {
   "cell_type": "code",
   "execution_count": 2,
   "id": "f0ddd070-a1d2-4c72-9fc6-0b20682aac41",
   "metadata": {},
   "outputs": [],
   "source": [
    "import numpy as np\n",
    "import pandas as pd"
   ]
  },
  {
   "cell_type": "code",
   "execution_count": 6,
   "id": "699a9a01-7363-4bda-bf26-cd52e6807efd",
   "metadata": {},
   "outputs": [],
   "source": [
    "import sklearn"
   ]
  },
  {
   "cell_type": "code",
   "execution_count": 8,
   "id": "fa57cb6e-dfc4-42df-9154-3019eed4cee3",
   "metadata": {},
   "outputs": [],
   "source": [
    "from sklearn.impute import SimpleImputer\n",
    "from sklearn.preprocessing import OneHotEncoder\n",
    "from sklearn.preprocessing import OrdinalEncoder"
   ]
  },
  {
   "cell_type": "code",
   "execution_count": 20,
   "id": "e16f56ff-81f5-4518-8280-1161aa7e81fd",
   "metadata": {},
   "outputs": [],
   "source": [
    "df = pd.read_csv('./Dataset/random_purchase.csv')"
   ]
  },
  {
   "cell_type": "code",
   "execution_count": 22,
   "id": "e3031833-8c23-4f1e-a2e8-319eaf00e724",
   "metadata": {},
   "outputs": [
    {
     "data": {
      "text/html": [
       "<div>\n",
       "<style scoped>\n",
       "    .dataframe tbody tr th:only-of-type {\n",
       "        vertical-align: middle;\n",
       "    }\n",
       "\n",
       "    .dataframe tbody tr th {\n",
       "        vertical-align: top;\n",
       "    }\n",
       "\n",
       "    .dataframe thead th {\n",
       "        text-align: right;\n",
       "    }\n",
       "</style>\n",
       "<table border=\"1\" class=\"dataframe\">\n",
       "  <thead>\n",
       "    <tr style=\"text-align: right;\">\n",
       "      <th></th>\n",
       "      <th>Age</th>\n",
       "      <th>City</th>\n",
       "      <th>Gender</th>\n",
       "      <th>Review</th>\n",
       "      <th>Purchase</th>\n",
       "    </tr>\n",
       "  </thead>\n",
       "  <tbody>\n",
       "    <tr>\n",
       "      <th>199</th>\n",
       "      <td>15</td>\n",
       "      <td>Bangalore</td>\n",
       "      <td>Male</td>\n",
       "      <td>Better</td>\n",
       "      <td>No</td>\n",
       "    </tr>\n",
       "    <tr>\n",
       "      <th>8</th>\n",
       "      <td>15</td>\n",
       "      <td>Kolkata</td>\n",
       "      <td>Female</td>\n",
       "      <td>Good</td>\n",
       "      <td>No</td>\n",
       "    </tr>\n",
       "    <tr>\n",
       "      <th>78</th>\n",
       "      <td>25</td>\n",
       "      <td>Kolkata</td>\n",
       "      <td>Male</td>\n",
       "      <td>Better</td>\n",
       "      <td>No</td>\n",
       "    </tr>\n",
       "    <tr>\n",
       "      <th>183</th>\n",
       "      <td>9</td>\n",
       "      <td>Mumbai</td>\n",
       "      <td>Male</td>\n",
       "      <td>Good</td>\n",
       "      <td>No</td>\n",
       "    </tr>\n",
       "    <tr>\n",
       "      <th>170</th>\n",
       "      <td>21</td>\n",
       "      <td>Kolkata</td>\n",
       "      <td>Female</td>\n",
       "      <td>Better</td>\n",
       "      <td>No</td>\n",
       "    </tr>\n",
       "  </tbody>\n",
       "</table>\n",
       "</div>"
      ],
      "text/plain": [
       "     Age       City  Gender  Review Purchase\n",
       "199   15  Bangalore    Male  Better       No\n",
       "8     15    Kolkata  Female    Good       No\n",
       "78    25    Kolkata    Male  Better       No\n",
       "183    9     Mumbai    Male    Good       No\n",
       "170   21    Kolkata  Female  Better       No"
      ]
     },
     "execution_count": 22,
     "metadata": {},
     "output_type": "execute_result"
    }
   ],
   "source": [
    "df.sample(5)"
   ]
  },
  {
   "cell_type": "code",
   "execution_count": 48,
   "id": "7341801f-5a2b-44c1-a782-4397b12301ab",
   "metadata": {},
   "outputs": [
    {
     "data": {
      "text/plain": [
       "(City\n",
       " Kolkata      66\n",
       " Bangalore    47\n",
       " Mumbai       47\n",
       " Delhi        40\n",
       " Name: count, dtype: int64,\n",
       " Review\n",
       " Good      81\n",
       " Better    79\n",
       " Best      40\n",
       " Name: count, dtype: int64)"
      ]
     },
     "execution_count": 48,
     "metadata": {},
     "output_type": "execute_result"
    }
   ],
   "source": [
    "df['City'].value_counts(),df['Review'].value_counts()"
   ]
  },
  {
   "cell_type": "code",
   "execution_count": 46,
   "id": "24cc86d3-b638-44cf-a7ac-a32fc3537145",
   "metadata": {},
   "outputs": [
    {
     "data": {
      "text/plain": [
       "Age         0\n",
       "City        0\n",
       "Gender      0\n",
       "Review      0\n",
       "Purchase    0\n",
       "dtype: int64"
      ]
     },
     "execution_count": 46,
     "metadata": {},
     "output_type": "execute_result"
    }
   ],
   "source": [
    "df.isnull().sum()"
   ]
  },
  {
   "cell_type": "code",
   "execution_count": 30,
   "id": "1a0a7a94-c584-46ce-91a4-aba00ef0fd33",
   "metadata": {},
   "outputs": [],
   "source": [
    "from sklearn.model_selection import train_test_split"
   ]
  },
  {
   "cell_type": "code",
   "execution_count": 34,
   "id": "9c66fb87-6cd9-41b6-a8dd-e270093feb14",
   "metadata": {},
   "outputs": [],
   "source": [
    "X_train, X_test, y_train, y_test = train_test_split(df.drop('Purchase', axis = 1), \n",
    "                                                    df['Purchase'], \n",
    "                                                    test_size = 0.2,\n",
    "                                                    random_state = 0\n",
    "                                                   )"
   ]
  },
  {
   "cell_type": "code",
   "execution_count": 38,
   "id": "9d8e1986-3f9a-42aa-8e28-683600b8c332",
   "metadata": {},
   "outputs": [
    {
     "data": {
      "text/plain": [
       "((160, 4), (40, 4), (160,), (40,))"
      ]
     },
     "execution_count": 38,
     "metadata": {},
     "output_type": "execute_result"
    }
   ],
   "source": [
    "X_train.shape, X_test.shape, y_train.shape, y_test.shape"
   ]
  },
  {
   "cell_type": "code",
   "execution_count": 68,
   "id": "c3b2d40d-d877-4e07-a7a0-1b2f184b5d06",
   "metadata": {},
   "outputs": [
    {
     "data": {
      "text/html": [
       "<div>\n",
       "<style scoped>\n",
       "    .dataframe tbody tr th:only-of-type {\n",
       "        vertical-align: middle;\n",
       "    }\n",
       "\n",
       "    .dataframe tbody tr th {\n",
       "        vertical-align: top;\n",
       "    }\n",
       "\n",
       "    .dataframe thead th {\n",
       "        text-align: right;\n",
       "    }\n",
       "</style>\n",
       "<table border=\"1\" class=\"dataframe\">\n",
       "  <thead>\n",
       "    <tr style=\"text-align: right;\">\n",
       "      <th></th>\n",
       "      <th>Age</th>\n",
       "      <th>City</th>\n",
       "      <th>Gender</th>\n",
       "      <th>Review</th>\n",
       "      <th>Purchase</th>\n",
       "    </tr>\n",
       "  </thead>\n",
       "  <tbody>\n",
       "    <tr>\n",
       "      <th>0</th>\n",
       "      <td>11</td>\n",
       "      <td>Bangalore</td>\n",
       "      <td>Female</td>\n",
       "      <td>Best</td>\n",
       "      <td>No</td>\n",
       "    </tr>\n",
       "    <tr>\n",
       "      <th>1</th>\n",
       "      <td>24</td>\n",
       "      <td>Kolkata</td>\n",
       "      <td>Female</td>\n",
       "      <td>Better</td>\n",
       "      <td>No</td>\n",
       "    </tr>\n",
       "    <tr>\n",
       "      <th>2</th>\n",
       "      <td>19</td>\n",
       "      <td>Kolkata</td>\n",
       "      <td>Female</td>\n",
       "      <td>Best</td>\n",
       "      <td>Yes</td>\n",
       "    </tr>\n",
       "    <tr>\n",
       "      <th>3</th>\n",
       "      <td>15</td>\n",
       "      <td>Mumbai</td>\n",
       "      <td>Male</td>\n",
       "      <td>Better</td>\n",
       "      <td>Yes</td>\n",
       "    </tr>\n",
       "    <tr>\n",
       "      <th>4</th>\n",
       "      <td>12</td>\n",
       "      <td>Mumbai</td>\n",
       "      <td>Female</td>\n",
       "      <td>Good</td>\n",
       "      <td>Yes</td>\n",
       "    </tr>\n",
       "  </tbody>\n",
       "</table>\n",
       "</div>"
      ],
      "text/plain": [
       "   Age       City  Gender  Review Purchase\n",
       "0   11  Bangalore  Female    Best       No\n",
       "1   24    Kolkata  Female  Better       No\n",
       "2   19    Kolkata  Female    Best      Yes\n",
       "3   15     Mumbai    Male  Better      Yes\n",
       "4   12     Mumbai  Female    Good      Yes"
      ]
     },
     "execution_count": 68,
     "metadata": {},
     "output_type": "execute_result"
    }
   ],
   "source": [
    "df.head()"
   ]
  },
  {
   "cell_type": "code",
   "execution_count": 52,
   "id": "036fd0eb-0134-4c9d-8a77-1444f4f82c1f",
   "metadata": {},
   "outputs": [],
   "source": [
    "from sklearn.compose import ColumnTransformer"
   ]
  },
  {
   "cell_type": "code",
   "execution_count": 70,
   "id": "4d39f3f5-a7a5-484f-93df-ad6ff531bf96",
   "metadata": {},
   "outputs": [],
   "source": [
    "transformer = ColumnTransformer(transformers=[\n",
    "    ('tnf1', OneHotEncoder(sparse_output=False, drop='first'), ['City', 'Gender']),\n",
    "    ('tnf2', OrdinalEncoder(categories=[['Good', 'Better', 'Best']]), ['Review']),\n",
    "    # ('tnf3', OrdinalEncoder(categories=[['No', 'Yes']]), ['Purchase'])\n",
    "], remainder='passthrough')"
   ]
  },
  {
   "cell_type": "code",
   "execution_count": 72,
   "id": "bf2b1fb5-939c-45c7-8581-1ab1a07db226",
   "metadata": {},
   "outputs": [
    {
     "data": {
      "text/plain": [
       "array([[ 0.,  0.,  1.,  1.,  0., 17.],\n",
       "       [ 0.,  1.,  0.,  0.,  2.,  8.],\n",
       "       [ 0.,  1.,  0.,  0.,  1., 19.],\n",
       "       [ 0.,  0.,  1.,  0.,  0.,  7.],\n",
       "       [ 0.,  0.,  0.,  0.,  1., 24.],\n",
       "       [ 0.,  0.,  0.,  1.,  1., 16.],\n",
       "       [ 0.,  1.,  0.,  0.,  0., 15.],\n",
       "       [ 0.,  0.,  0.,  0.,  0., 17.],\n",
       "       [ 0.,  0.,  0.,  1.,  0.,  5.],\n",
       "       [ 0.,  0.,  1.,  1.,  0., 17.],\n",
       "       [ 0.,  1.,  0.,  0.,  1., 18.],\n",
       "       [ 1.,  0.,  0.,  0.,  2., 19.],\n",
       "       [ 1.,  0.,  0.,  0.,  1.,  5.],\n",
       "       [ 0.,  1.,  0.,  1.,  2., 14.],\n",
       "       [ 0.,  0.,  1.,  0.,  2., 15.],\n",
       "       [ 0.,  0.,  1.,  0.,  1., 14.],\n",
       "       [ 0.,  1.,  0.,  0.,  1., 24.],\n",
       "       [ 0.,  1.,  0.,  1.,  1., 13.],\n",
       "       [ 1.,  0.,  0.,  0.,  0., 18.],\n",
       "       [ 0.,  0.,  1.,  0.,  2., 12.],\n",
       "       [ 0.,  0.,  0.,  0.,  0.,  8.],\n",
       "       [ 0.,  0.,  0.,  0.,  1.,  9.],\n",
       "       [ 0.,  1.,  0.,  0.,  0.,  6.],\n",
       "       [ 0.,  0.,  0.,  1.,  2., 25.],\n",
       "       [ 0.,  1.,  0.,  0.,  1., 24.],\n",
       "       [ 1.,  0.,  0.,  1.,  0., 12.],\n",
       "       [ 1.,  0.,  0.,  1.,  1.,  8.],\n",
       "       [ 0.,  1.,  0.,  0.,  0., 23.],\n",
       "       [ 1.,  0.,  0.,  0.,  0.,  7.],\n",
       "       [ 0.,  0.,  1.,  0.,  1.,  5.],\n",
       "       [ 0.,  1.,  0.,  0.,  1., 11.],\n",
       "       [ 1.,  0.,  0.,  0.,  0., 23.],\n",
       "       [ 0.,  1.,  0.,  1.,  0.,  8.],\n",
       "       [ 0.,  0.,  1.,  1.,  1., 13.],\n",
       "       [ 0.,  1.,  0.,  0.,  2., 25.],\n",
       "       [ 0.,  0.,  1.,  1.,  0., 15.],\n",
       "       [ 0.,  1.,  0.,  1.,  0., 16.],\n",
       "       [ 0.,  1.,  0.,  0.,  0., 25.],\n",
       "       [ 0.,  1.,  0.,  1.,  1., 19.],\n",
       "       [ 0.,  0.,  1.,  1.,  0.,  6.],\n",
       "       [ 1.,  0.,  0.,  0.,  0.,  6.],\n",
       "       [ 0.,  1.,  0.,  0.,  0., 19.],\n",
       "       [ 0.,  0.,  0.,  1.,  0., 17.],\n",
       "       [ 1.,  0.,  0.,  0.,  1.,  9.],\n",
       "       [ 0.,  1.,  0.,  0.,  1.,  7.],\n",
       "       [ 0.,  0.,  1.,  1.,  0., 22.],\n",
       "       [ 0.,  1.,  0.,  0.,  2., 19.],\n",
       "       [ 0.,  0.,  0.,  0.,  2., 10.],\n",
       "       [ 0.,  0.,  1.,  0.,  1., 15.],\n",
       "       [ 1.,  0.,  0.,  1.,  2.,  6.],\n",
       "       [ 0.,  1.,  0.,  0.,  0., 25.],\n",
       "       [ 0.,  0.,  0.,  1.,  0., 25.],\n",
       "       [ 0.,  0.,  0.,  1.,  1., 10.],\n",
       "       [ 0.,  1.,  0.,  1.,  0., 25.],\n",
       "       [ 0.,  0.,  0.,  1.,  1., 24.],\n",
       "       [ 0.,  0.,  1.,  1.,  0., 21.],\n",
       "       [ 0.,  0.,  1.,  1.,  0.,  7.],\n",
       "       [ 1.,  0.,  0.,  1.,  0., 17.],\n",
       "       [ 1.,  0.,  0.,  0.,  1.,  7.],\n",
       "       [ 0.,  0.,  0.,  0.,  2.,  5.],\n",
       "       [ 1.,  0.,  0.,  0.,  0., 10.],\n",
       "       [ 0.,  1.,  0.,  0.,  1.,  8.],\n",
       "       [ 0.,  0.,  1.,  0.,  1., 19.],\n",
       "       [ 0.,  0.,  0.,  0.,  2., 11.],\n",
       "       [ 1.,  0.,  0.,  0.,  1.,  7.],\n",
       "       [ 0.,  1.,  0.,  1.,  0., 12.],\n",
       "       [ 1.,  0.,  0.,  1.,  1.,  5.],\n",
       "       [ 0.,  0.,  0.,  0.,  1.,  6.],\n",
       "       [ 0.,  0.,  1.,  0.,  1., 13.],\n",
       "       [ 0.,  0.,  0.,  1.,  0., 22.],\n",
       "       [ 0.,  1.,  0.,  1.,  2., 19.],\n",
       "       [ 0.,  1.,  0.,  1.,  1., 12.],\n",
       "       [ 0.,  1.,  0.,  0.,  1., 16.],\n",
       "       [ 1.,  0.,  0.,  0.,  1., 13.],\n",
       "       [ 0.,  0.,  0.,  1.,  1.,  7.],\n",
       "       [ 0.,  0.,  1.,  1.,  0.,  9.],\n",
       "       [ 0.,  1.,  0.,  1.,  1., 21.],\n",
       "       [ 1.,  0.,  0.,  0.,  2., 23.],\n",
       "       [ 1.,  0.,  0.,  1.,  0., 19.],\n",
       "       [ 0.,  1.,  0.,  0.,  0.,  5.],\n",
       "       [ 0.,  0.,  0.,  1.,  0.,  6.],\n",
       "       [ 0.,  1.,  0.,  1.,  1., 25.],\n",
       "       [ 1.,  0.,  0.,  0.,  1.,  6.],\n",
       "       [ 0.,  0.,  1.,  0.,  0., 18.],\n",
       "       [ 0.,  1.,  0.,  0.,  0., 11.],\n",
       "       [ 0.,  0.,  1.,  0.,  1., 22.],\n",
       "       [ 0.,  0.,  1.,  1.,  1., 15.],\n",
       "       [ 0.,  1.,  0.,  1.,  0., 18.],\n",
       "       [ 0.,  0.,  1.,  0.,  0., 14.],\n",
       "       [ 0.,  0.,  0.,  1.,  2., 10.],\n",
       "       [ 0.,  0.,  0.,  1.,  0., 11.],\n",
       "       [ 0.,  1.,  0.,  0.,  2., 20.],\n",
       "       [ 0.,  1.,  0.,  0.,  0., 11.],\n",
       "       [ 0.,  0.,  0.,  0.,  0., 11.],\n",
       "       [ 0.,  0.,  1.,  1.,  2., 13.],\n",
       "       [ 0.,  0.,  1.,  0.,  1., 24.],\n",
       "       [ 1.,  0.,  0.,  0.,  0.,  7.],\n",
       "       [ 0.,  1.,  0.,  1.,  1., 21.],\n",
       "       [ 0.,  0.,  0.,  1.,  1., 15.],\n",
       "       [ 0.,  1.,  0.,  1.,  1.,  8.],\n",
       "       [ 0.,  0.,  0.,  1.,  2.,  9.],\n",
       "       [ 0.,  1.,  0.,  1.,  1., 12.],\n",
       "       [ 0.,  0.,  1.,  1.,  1., 25.],\n",
       "       [ 0.,  0.,  1.,  0.,  1.,  8.],\n",
       "       [ 0.,  1.,  0.,  1.,  1., 14.],\n",
       "       [ 0.,  1.,  0.,  0.,  1., 24.],\n",
       "       [ 1.,  0.,  0.,  1.,  1., 18.],\n",
       "       [ 0.,  0.,  1.,  0.,  0.,  5.],\n",
       "       [ 0.,  0.,  0.,  1.,  0., 13.],\n",
       "       [ 0.,  0.,  1.,  1.,  1.,  5.],\n",
       "       [ 0.,  0.,  0.,  0.,  0.,  9.],\n",
       "       [ 0.,  0.,  0.,  0.,  0., 11.],\n",
       "       [ 0.,  0.,  0.,  1.,  1., 10.],\n",
       "       [ 0.,  0.,  0.,  0.,  1., 22.],\n",
       "       [ 1.,  0.,  0.,  0.,  0., 11.],\n",
       "       [ 0.,  1.,  0.,  0.,  1., 21.],\n",
       "       [ 0.,  0.,  1.,  1.,  1., 11.],\n",
       "       [ 0.,  0.,  0.,  1.,  0., 11.],\n",
       "       [ 0.,  0.,  1.,  1.,  1., 11.],\n",
       "       [ 0.,  0.,  0.,  0.,  0., 23.],\n",
       "       [ 0.,  1.,  0.,  0.,  1.,  9.],\n",
       "       [ 0.,  0.,  1.,  0.,  0.,  5.],\n",
       "       [ 0.,  0.,  1.,  0.,  2.,  7.],\n",
       "       [ 1.,  0.,  0.,  0.,  1., 19.],\n",
       "       [ 0.,  0.,  1.,  0.,  0., 23.],\n",
       "       [ 0.,  1.,  0.,  0.,  0., 21.],\n",
       "       [ 0.,  0.,  0.,  0.,  1.,  9.],\n",
       "       [ 0.,  1.,  0.,  1.,  0., 14.],\n",
       "       [ 0.,  0.,  0.,  1.,  2., 21.],\n",
       "       [ 0.,  0.,  0.,  0.,  2., 16.],\n",
       "       [ 1.,  0.,  0.,  0.,  0., 16.],\n",
       "       [ 0.,  0.,  1.,  1.,  1., 13.],\n",
       "       [ 1.,  0.,  0.,  0.,  2., 17.],\n",
       "       [ 1.,  0.,  0.,  1.,  2., 17.],\n",
       "       [ 0.,  0.,  1.,  0.,  0., 19.],\n",
       "       [ 0.,  1.,  0.,  1.,  0., 24.],\n",
       "       [ 0.,  1.,  0.,  0.,  1., 21.],\n",
       "       [ 0.,  0.,  1.,  0.,  0., 12.],\n",
       "       [ 0.,  1.,  0.,  1.,  0., 19.],\n",
       "       [ 0.,  0.,  1.,  1.,  1., 20.],\n",
       "       [ 0.,  0.,  1.,  1.,  0., 16.],\n",
       "       [ 0.,  1.,  0.,  0.,  0., 19.],\n",
       "       [ 0.,  0.,  0.,  0.,  2., 25.],\n",
       "       [ 0.,  0.,  1.,  0.,  0.,  6.],\n",
       "       [ 1.,  0.,  0.,  0.,  0., 10.],\n",
       "       [ 1.,  0.,  0.,  0.,  1.,  8.],\n",
       "       [ 0.,  1.,  0.,  1.,  0.,  6.],\n",
       "       [ 0.,  0.,  1.,  0.,  1., 23.],\n",
       "       [ 0.,  0.,  1.,  1.,  1., 12.],\n",
       "       [ 1.,  0.,  0.,  1.,  2., 12.],\n",
       "       [ 0.,  0.,  0.,  0.,  0., 16.],\n",
       "       [ 1.,  0.,  0.,  1.,  0., 13.],\n",
       "       [ 0.,  1.,  0.,  0.,  1., 16.],\n",
       "       [ 0.,  0.,  1.,  0.,  1., 15.],\n",
       "       [ 0.,  0.,  1.,  1.,  0., 16.],\n",
       "       [ 0.,  0.,  0.,  0.,  1., 18.],\n",
       "       [ 1.,  0.,  0.,  0.,  1., 15.],\n",
       "       [ 0.,  1.,  0.,  0.,  0.,  7.],\n",
       "       [ 0.,  0.,  1.,  1.,  2., 11.],\n",
       "       [ 0.,  1.,  0.,  1.,  1., 16.]])"
      ]
     },
     "execution_count": 72,
     "metadata": {},
     "output_type": "execute_result"
    }
   ],
   "source": [
    "transformer.fit_transform(X_train)"
   ]
  },
  {
   "cell_type": "code",
   "execution_count": 74,
   "id": "1024f4f7-8928-48df-9350-db9f4701229e",
   "metadata": {},
   "outputs": [
    {
     "data": {
      "text/plain": [
       "(160, 6)"
      ]
     },
     "execution_count": 74,
     "metadata": {},
     "output_type": "execute_result"
    }
   ],
   "source": [
    "transformer.fit_transform(X_train).shape"
   ]
  },
  {
   "cell_type": "code",
   "execution_count": 76,
   "id": "57bec955-08e7-417f-b165-1cd7eddb5f43",
   "metadata": {},
   "outputs": [
    {
     "data": {
      "text/plain": [
       "array([[ 0.,  0.,  0.,  0.,  0.,  6.],\n",
       "       [ 0.,  1.,  0.,  0.,  1., 21.],\n",
       "       [ 0.,  1.,  0.,  0.,  2.,  9.],\n",
       "       [ 0.,  0.,  1.,  0.,  1., 11.],\n",
       "       [ 0.,  0.,  0.,  1.,  0.,  9.],\n",
       "       [ 1.,  0.,  0.,  0.,  0.,  6.],\n",
       "       [ 0.,  1.,  0.,  1.,  0., 25.],\n",
       "       [ 0.,  1.,  0.,  0.,  1., 16.],\n",
       "       [ 0.,  1.,  0.,  0.,  0., 12.],\n",
       "       [ 0.,  1.,  0.,  0.,  1.,  5.],\n",
       "       [ 0.,  0.,  1.,  0.,  2.,  8.],\n",
       "       [ 1.,  0.,  0.,  1.,  0., 14.],\n",
       "       [ 0.,  0.,  0.,  0.,  1., 21.],\n",
       "       [ 1.,  0.,  0.,  1.,  1., 17.],\n",
       "       [ 0.,  1.,  0.,  0.,  2., 13.],\n",
       "       [ 1.,  0.,  0.,  1.,  0., 23.],\n",
       "       [ 0.,  1.,  0.,  0.,  0., 23.],\n",
       "       [ 0.,  1.,  0.,  1.,  1., 24.],\n",
       "       [ 0.,  0.,  0.,  0.,  0., 11.],\n",
       "       [ 0.,  1.,  0.,  0.,  2., 20.],\n",
       "       [ 0.,  0.,  1.,  1.,  0.,  9.],\n",
       "       [ 0.,  0.,  0.,  0.,  1., 10.],\n",
       "       [ 1.,  0.,  0.,  1.,  2., 24.],\n",
       "       [ 0.,  0.,  0.,  0.,  2., 12.],\n",
       "       [ 0.,  0.,  0.,  1.,  2., 14.],\n",
       "       [ 1.,  0.,  0.,  1.,  2., 19.],\n",
       "       [ 0.,  1.,  0.,  0.,  2., 21.],\n",
       "       [ 0.,  0.,  0.,  1.,  1.,  5.],\n",
       "       [ 1.,  0.,  0.,  1.,  1., 13.],\n",
       "       [ 0.,  1.,  0.,  1.,  2.,  6.],\n",
       "       [ 1.,  0.,  0.,  0.,  1., 16.],\n",
       "       [ 0.,  1.,  0.,  0.,  0., 22.],\n",
       "       [ 0.,  1.,  0.,  0.,  1., 11.],\n",
       "       [ 0.,  0.,  0.,  0.,  2.,  7.],\n",
       "       [ 0.,  0.,  0.,  1.,  2., 16.],\n",
       "       [ 0.,  1.,  0.,  1.,  2., 16.],\n",
       "       [ 1.,  0.,  0.,  1.,  0., 21.],\n",
       "       [ 0.,  0.,  1.,  0.,  0., 12.],\n",
       "       [ 0.,  0.,  0.,  1.,  1.,  5.],\n",
       "       [ 0.,  1.,  0.,  1.,  2., 20.]])"
      ]
     },
     "execution_count": 76,
     "metadata": {},
     "output_type": "execute_result"
    }
   ],
   "source": [
    "transformer.transform(X_test)"
   ]
  },
  {
   "cell_type": "code",
   "execution_count": 78,
   "id": "e63e12ac-3ef7-4066-984b-c28820c857ab",
   "metadata": {},
   "outputs": [
    {
     "data": {
      "text/plain": [
       "(40, 6)"
      ]
     },
     "execution_count": 78,
     "metadata": {},
     "output_type": "execute_result"
    }
   ],
   "source": [
    "transformer.transform(X_test).shape"
   ]
  },
  {
   "cell_type": "code",
   "execution_count": null,
   "id": "f05dbf76-ddd9-40be-a222-845830e9e582",
   "metadata": {},
   "outputs": [],
   "source": []
  },
  {
   "cell_type": "markdown",
   "id": "7d4406b6",
   "metadata": {},
   "source": [
    "## 📌 Conclusion\n",
    "`ColumnTransformer` is a powerful and efficient way to preprocess heterogeneous data types in one unified pipeline. It improves modularity, readability, and makes your code more production-ready."
   ]
  }
 ],
 "metadata": {
  "kernelspec": {
   "display_name": "Python [conda env:base] *",
   "language": "python",
   "name": "conda-base-py"
  },
  "language_info": {
   "codemirror_mode": {
    "name": "ipython",
    "version": 3
   },
   "file_extension": ".py",
   "mimetype": "text/x-python",
   "name": "python",
   "nbconvert_exporter": "python",
   "pygments_lexer": "ipython3",
   "version": "3.12.7"
  }
 },
 "nbformat": 4,
 "nbformat_minor": 5
}
